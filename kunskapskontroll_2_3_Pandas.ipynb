{
 "cells": [
  {
   "cell_type": "markdown",
   "id": "b540290b",
   "metadata": {},
   "source": [
    "# Pandas\n",
    "Read \"10 minutes to Pandas\": https://pandas.pydata.org/docs/user_guide/10min.html before solving the exercises.\n",
    "We will use the data set \"cars_data\" in the exercises below. "
   ]
  },
  {
   "cell_type": "code",
   "execution_count": null,
   "id": "fa266ee4",
   "metadata": {},
   "outputs": [],
   "source": [
    "# Importing Pandas. \n",
    "import pandas as pd"
   ]
  },
  {
   "cell_type": "markdown",
   "id": "addb587b",
   "metadata": {},
   "source": [
    "### Explain what a CSV file is."
   ]
  },
  {
   "cell_type": "code",
   "execution_count": null,
   "id": "6047c36f",
   "metadata": {},
   "outputs": [],
   "source": [
    "CSV står för Comma-Separated Values, alltså \"kommaseparerade värden\". ANvänds ofta även vid importer av data och kan vara mer ön kommaseparerad."
   ]
  },
  {
   "cell_type": "markdown",
   "id": "5c61e5d9",
   "metadata": {},
   "source": [
    "### Load the data set \"cars_data\" through Pandas. "
   ]
  },
  {
   "cell_type": "code",
   "execution_count": null,
   "id": "91923010",
   "metadata": {},
   "outputs": [],
   "source": [
    "# When reading in the data, either you have the data file in the same folder as your python script\n",
    "# or in a seperate folder.\n",
    "\n",
    "# Code below can be ran if you have the data file in the same folder as the script\n",
    "# cars = pd.read_csv(\"cars_data.csv\")\n",
    "\n",
    "# Code below can be ran if you have the data file in another script. \n",
    "# Notice, you must change the path according to where you have the data in your computer. \n",
    "# pd.read_csv(r'C:\\Users\\Antonio Prgomet\\Documents\\03_nbi_yh\\korta_yh_kurser\\python_för_ai\\kunskapskontroll_1\\cars_data.csv')"
   ]
  },
  {
   "cell_type": "markdown",
   "id": "b9ac1d06",
   "metadata": {},
   "source": [
    "### Print the first 10 rows of the data. "
   ]
  },
  {
   "cell_type": "code",
   "execution_count": null,
   "id": "2886ff8e",
   "metadata": {},
   "outputs": [],
   "source": [
    "cars.head(10)\n",
    "\n",
    "| index | company     | body-style  | wheel-base | length | engine-type | num-of-cylinders | horsepower | average-mileage | price   |\n",
    "| ----- | ----------- | ----------- | ---------- | ------ | ----------- | ---------------- | ---------- | --------------- | ------- |\n",
    "| 0     | alfa-romero | convertible | 88.6       | 168.8  | dohc        | four             | 111        | 21              | 13495.0 |\n",
    "| 1     | alfa-romero | convertible | 88.6       | 168.8  | dohc        | four             | 111        | 21              | 16500.0 |\n",
    "| 2     | alfa-romero | hatchback   | 94.5       | 171.2  | ohcv        | six              | 154        | 19              | 16500.0 |\n",
    "| 3     | audi        | sedan       | 99.8       | 176.6  | ohc         | four             | 102        | 24              | 13950.0 |\n",
    "| 4     | audi        | sedan       | 99.4       | 176.6  | ohc         | five             | 115        | 18              | 17450.0 |\n",
    "| 5     | audi        | sedan       | 99.8       | 177.3  | ohc         | five             | 110        | 19              | 15250.0 |\n",
    "| 6     | audi        | wagon       | 105.8      | 192.7  | ohc         | five             | 110        | 19              | 18920.0 |\n",
    "| 7     | bmw         | sedan       | 101.2      | 176.8  | ohc         | four             | 101        | 23              | 16430.0 |\n",
    "| 8     | bmw         | sedan       | 101.2      | 176.8  | ohc         | four             | 101        | 23              | 16925.0 |\n",
    "| 9     | bmw         | sedan       | 101.2      | 176.8  | ohc         | six              | 121        | 21              | 20970.0 |"
   ]
  },
  {
   "cell_type": "markdown",
   "id": "ec02774b",
   "metadata": {},
   "source": [
    "### Print the last 5 rows. "
   ]
  },
  {
   "cell_type": "code",
   "execution_count": null,
   "id": "437d158f",
   "metadata": {},
   "outputs": [],
   "source": [
    "cars.tail(5)\n",
    "\n",
    "| index | company    | body-style | wheel-base | length | engine-type | num-of-cylinders | horsepower | average-mileage | price   |\n",
    "| ----- | ---------- | ---------- | ---------- | ------ | ----------- | ---------------- | ---------- | --------------- | ------- |\n",
    "| 56    | volkswagen | sedan      | 97.3       | 171.7  | ohc         | four             | 85         | 27              | 7975.0  |\n",
    "| 57    | volkswagen | sedan      | 97.3       | 171.7  | ohc         | four             | 52         | 37              | 7995.0  |\n",
    "| 58    | volkswagen | sedan      | 97.3       | 171.7  | ohc         | four             | 100        | 26              | 9995.0  |\n",
    "| 59    | volvo      | sedan      | 104.3      | 188.8  | ohc         | four             | 114        | 23              | 12940.0 |\n",
    "| 60    | volvo      | wagon      | 104.3      | 188.8  | ohc         | four             | 114        | 23              | 13415.0 |"
   ]
  },
  {
   "cell_type": "markdown",
   "id": "e0cd9329",
   "metadata": {},
   "source": [
    "### By using the info method, check how many non-null rows each column have. "
   ]
  },
  {
   "cell_type": "code",
   "execution_count": null,
   "id": "efe71f5f",
   "metadata": {},
   "outputs": [],
   "source": [
    "cars.info()\n",
    "\n",
    "Kolumnen price har 3 saknade värden (nulls)."
   ]
  },
  {
   "cell_type": "markdown",
   "id": "887f8c9c",
   "metadata": {},
   "source": [
    "### If any column has a missing value, drop the entire row. Notice, the operation should be inplace meaning you change the dataframe itself."
   ]
  },
  {
   "cell_type": "code",
   "execution_count": null,
   "id": "60b660dc",
   "metadata": {},
   "outputs": [],
   "source": [
    "cars.dropna(inplace=True)\n",
    "cars.info()\n"
   ]
  },
  {
   "cell_type": "markdown",
   "id": "614eeffe",
   "metadata": {},
   "source": [
    "### Calculate the mean of each numeric column. "
   ]
  },
  {
   "cell_type": "code",
   "execution_count": null,
   "id": "49e06c7c",
   "metadata": {},
   "outputs": [],
   "source": [
    "cars_mean = cars.mean(numeric_only=True)\n",
    "cars_mean\n",
    "\n",
    "Resultat\n",
    "index                 40.827586\n",
    "wheel-base            98.620690\n",
    "length               173.646552\n",
    "horsepower           106.051724\n",
    "average-mileage       25.534483\n",
    "price              15387.000000"
   ]
  },
  {
   "cell_type": "markdown",
   "id": "f4f79bfd",
   "metadata": {},
   "source": [
    "### Select the rows where the column \"company\" is equal to 'honda'. "
   ]
  },
  {
   "cell_type": "code",
   "execution_count": null,
   "id": "1e373079",
   "metadata": {},
   "outputs": [],
   "source": [
    "honda_cars = cars[cars[\"company\"] == \"honda\"]\n",
    "honda_cars\n",
    "\n",
    "Resultat\n",
    "    index company body-style  wheel-base  length engine-type num-of-cylinders  \\\n",
    "18     27   honda      wagon        96.5   157.1         ohc             four   \n",
    "19     28   honda      sedan        96.5   175.4         ohc             four   \n",
    "20     29   honda      sedan        96.5   169.1         ohc             four   \n",
    "\n",
    "    horsepower  average-mileage    price  \n",
    "18          76               30   7295.0  \n",
    "19         101               24  12945.0  \n",
    "20         100               25  10345.0"
   ]
  },
  {
   "cell_type": "markdown",
   "id": "0a3543eb",
   "metadata": {},
   "source": [
    "### Sort the data set by price in descending order. This should *not* be an inplace operation. "
   ]
  },
  {
   "cell_type": "code",
   "execution_count": null,
   "id": "8455abaa",
   "metadata": {},
   "outputs": [],
   "source": [
    "cars_sorted_by_price = cars.sort_values(by=\"price\", ascending=False)\n",
    "cars_sorted_by_price.head(10)\n",
    "\n",
    "Resultat\n",
    "    index        company   body-style  wheel-base  length engine-type  \\\n",
    "35     47  mercedes-benz      hardtop       112.0   199.2        ohcv   \n",
    "11     14            bmw        sedan       103.5   193.8         ohc   \n",
    "34     46  mercedes-benz        sedan       120.9   208.1        ohcv   \n",
    "46     62        porsche  convertible        89.5   168.9        ohcf   \n",
    "12     15            bmw        sedan       110.0   197.0         ohc   \n",
    "26     35         jaguar        sedan       102.0   191.7        ohcv   \n",
    "25     34         jaguar        sedan       113.0   199.6        dohc   \n",
    "45     61        porsche      hardtop        89.5   168.9        ohcf   \n",
    "24     33         jaguar        sedan       113.0   199.6        dohc   \n",
    "10     13            bmw        sedan       103.5   189.0         ohc   \n",
    "\n",
    "   num-of-cylinders  horsepower  average-mileage    price  \n",
    "35            eight         184               14  45400.0  \n",
    "11              six         182               16  41315.0  \n",
    "34            eight         184               14  40960.0  \n",
    "46              six         207               17  37028.0  \n",
    "12              six         182               15  36880.0  \n",
    "26           twelve         262               13  36000.0  \n",
    "25              six         176               15  35550.0  \n",
    "45              six         207               17  34028.0  \n",
    "24              six         176               15  32250.0  \n",
    "10              six         182               16  30760.0  "
   ]
  },
  {
   "cell_type": "markdown",
   "id": "1527f255",
   "metadata": {},
   "source": [
    "### Select the rows where the column \"company\" is equal to any of the values (audi, bmw, porsche)."
   ]
  },
  {
   "cell_type": "code",
   "execution_count": null,
   "id": "60e300ae",
   "metadata": {},
   "outputs": [],
   "source": [
    "selected_companies = cars[cars[\"company\"].isin([\"audi\", \"bmw\", \"porsche\"])]\n",
    "selected_companies\n",
    "\n",
    "Resultat\n",
    "    index  company   body-style  wheel-base  length engine-type  \\\n",
    "3       3     audi        sedan        99.8   176.6         ohc   \n",
    "4       4     audi        sedan        99.4   176.6         ohc   \n",
    "5       5     audi        sedan        99.8   177.3         ohc   \n",
    "6       6     audi        wagon       105.8   192.7         ohc   \n",
    "7       9      bmw        sedan       101.2   176.8         ohc   \n",
    "8      10      bmw        sedan       101.2   176.8         ohc   \n",
    "9      11      bmw        sedan       101.2   176.8         ohc   \n",
    "10     13      bmw        sedan       103.5   189.0         ohc   \n",
    "11     14      bmw        sedan       103.5   193.8         ohc   \n",
    "12     15      bmw        sedan       110.0   197.0         ohc   \n",
    "45     61  porsche      hardtop        89.5   168.9        ohcf   \n",
    "46     62  porsche  convertible        89.5   168.9        ohcf   \n",
    "\n",
    "   num-of-cylinders  horsepower  average-mileage    price  \n",
    "3              four         102               24  13950.0  \n",
    "4              five         115               18  17450.0  \n",
    "5              five         110               19  15250.0  \n",
    "6              five         110               19  18920.0  \n",
    "7              four         101               23  16430.0  \n",
    "8              four         101               23  16925.0  \n",
    "9               six         121               21  20970.0  \n",
    "10              six         182               16  30760.0  \n",
    "11              six         182               16  41315.0  \n",
    "12              six         182               15  36880.0  \n",
    "45              six         207               17  34028.0  \n",
    "46              six         207               17  37028.0 "
   ]
  },
  {
   "cell_type": "markdown",
   "id": "3ce133eb",
   "metadata": {},
   "source": [
    "### Find the number of cars (rows) for each company. "
   ]
  },
  {
   "cell_type": "code",
   "execution_count": null,
   "id": "7e6a9d43",
   "metadata": {},
   "outputs": [],
   "source": [
    "cars_per_company = cars[\"company\"].value_counts()\n",
    "cars_per_company\n",
    "\n",
    "Resultat\n",
    "toyota           7\n",
    "bmw              6\n",
    "mazda            5\n",
    "nissan           5\n",
    "audi             4\n",
    "mercedes-benz    4\n",
    "mitsubishi       4\n",
    "volkswagen       4\n",
    "alfa-romero      3\n",
    "chevrolet        3\n",
    "honda            3\n",
    "jaguar           3\n",
    "dodge            2\n",
    "porsche          2\n",
    "volvo            2\n",
    "isuzu            1"
   ]
  },
  {
   "cell_type": "markdown",
   "id": "5beef62f",
   "metadata": {},
   "source": [
    "### Find the maximum price for each company. "
   ]
  },
  {
   "cell_type": "code",
   "execution_count": null,
   "id": "d91dc8be",
   "metadata": {},
   "outputs": [],
   "source": [
    "max_price_per_company = cars.groupby(\"company\")[\"price\"].max()\n",
    "max_price_per_company\n",
    "\n",
    "Resultat\n",
    "company\n",
    "alfa-romero      16500.0\n",
    "audi             18920.0\n",
    "bmw              41315.0\n",
    "chevrolet         6575.0\n",
    "dodge             6377.0\n",
    "honda            12945.0\n",
    "isuzu             6785.0\n",
    "jaguar           36000.0\n",
    "mazda            18344.0\n",
    "mercedes-benz    45400.0\n",
    "mitsubishi        8189.0\n",
    "nissan           13499.0\n",
    "porsche          37028.0\n",
    "toyota           15750.0\n",
    "volkswagen        9995.0\n",
    "volvo            13415.0"
   ]
  }
 ],
 "metadata": {
  "kernelspec": {
   "display_name": "anaconda-panel-2023.05-py310",
   "language": "python",
   "name": "conda-env-anaconda-panel-2023.05-py310-py"
  },
  "language_info": {
   "codemirror_mode": {
    "name": "ipython",
    "version": 3
   },
   "file_extension": ".py",
   "mimetype": "text/x-python",
   "name": "python",
   "nbconvert_exporter": "python",
   "pygments_lexer": "ipython3",
   "version": "3.11.5"
  }
 },
 "nbformat": 4,
 "nbformat_minor": 5
}
